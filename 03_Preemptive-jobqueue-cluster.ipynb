{
 "cells": [
  {
   "cell_type": "markdown",
   "metadata": {},
   "source": [
    "# Preemptive Dask jobqueue cluster\n",
    "Specifies an adaptive cluster and a very simple job preemption mechanism, which simulates using Dask jobqueue clusters on preemptive cluster node resources.\n",
    "\n",
    "Developed for usage on JUWELS, but can be used for \"benchmarking\" other machines by adjusting the Dask jobqueue cluster node specification and the workflow parameters, i.e. especially the `workload_chunk_size_in_megabytes`, which should be set according to the actually specified worker memory/threads and processes."
   ]
  },
  {
   "cell_type": "markdown",
   "metadata": {},
   "source": [
    "## Workflow parameters\n",
    "Has an impact upon the total runtime of the Jupyter notebook and the workload defined below."
   ]
  },
  {
   "cell_type": "code",
   "execution_count": 1,
   "metadata": {},
   "outputs": [
    {
     "name": "stdout",
     "output_type": "stream",
     "text": [
      "there will be 12500.0 chunks to process\n"
     ]
    }
   ],
   "source": [
    "workload_size_in_terabytes = 2\n",
    "workload_chunk_size_in_megabytes = 160 # ~memory/cpu, i.e. Dask worker specific!\n",
    "print(f\"there will be {(workload_size_in_terabytes*1e12)/(workload_chunk_size_in_megabytes*1e6)} chunks to process\")"
   ]
  },
  {
   "cell_type": "code",
   "execution_count": 2,
   "metadata": {},
   "outputs": [],
   "source": [
    "wait_for_jobqueue_cluster_startup_in_seconds = 60\n",
    "target_cluster_size_min = 7 # jobs and/or nodes\n",
    "target_cluster_size_max = 8 # needs to be greater than min!\n",
    "cluster_resilience = 1000"
   ]
  },
  {
   "cell_type": "code",
   "execution_count": 3,
   "metadata": {},
   "outputs": [],
   "source": [
    "repeat_workloads = 3\n",
    "sleep_between_repeat_workloads_in_seconds = 10"
   ]
  },
  {
   "cell_type": "markdown",
   "metadata": {},
   "source": [
    "Specify preemption \"aggressiveness\" of the utilized node resources."
   ]
  },
  {
   "cell_type": "code",
   "execution_count": 4,
   "metadata": {},
   "outputs": [],
   "source": [
    "preemption_timeout_in_seconds=30\n",
    "jobs_to_preempt = 2"
   ]
  },
  {
   "cell_type": "markdown",
   "metadata": {},
   "source": [
    "Set necessary environment variables for use in the preemption simulator shell script."
   ]
  },
  {
   "cell_type": "code",
   "execution_count": 5,
   "metadata": {},
   "outputs": [
    {
     "name": "stdout",
     "output_type": "stream",
     "text": [
      "env: preemption_timeout_in_seconds=30\n",
      "env: jobs_to_preempt=2\n"
     ]
    }
   ],
   "source": [
    "%env preemption_timeout_in_seconds={preemption_timeout_in_seconds}\n",
    "%env jobs_to_preempt={jobs_to_preempt}"
   ]
  },
  {
   "cell_type": "markdown",
   "metadata": {},
   "source": [
    "## Setup Python environment"
   ]
  },
  {
   "cell_type": "code",
   "execution_count": 6,
   "metadata": {},
   "outputs": [],
   "source": [
    "%run tech-preamble.py"
   ]
  },
  {
   "cell_type": "markdown",
   "metadata": {},
   "source": [
    "## Manually kill obsolete Dask workers\n",
    "Make sure existing/pending Dask worker jobs don't interfere with the scheduler load produced below."
   ]
  },
  {
   "cell_type": "code",
   "execution_count": 7,
   "metadata": {},
   "outputs": [],
   "source": [
    "!squeue -u $USER | grep dask | awk '{print $1}' | xargs -I {} scancel {}"
   ]
  },
  {
   "cell_type": "code",
   "execution_count": 8,
   "metadata": {},
   "outputs": [],
   "source": [
    "time.sleep(5)"
   ]
  },
  {
   "cell_type": "code",
   "execution_count": 9,
   "metadata": {},
   "outputs": [
    {
     "name": "stdout",
     "output_type": "stream",
     "text": [
      "             JOBID PARTITION     NAME     USER ST       TIME  NODES NODELIST(REASON)\n"
     ]
    }
   ],
   "source": [
    "!squeue -u $USER"
   ]
  },
  {
   "cell_type": "markdown",
   "metadata": {},
   "source": [
    "## Dask jobqueue cluster"
   ]
  },
  {
   "cell_type": "code",
   "execution_count": 10,
   "metadata": {},
   "outputs": [
    {
     "name": "stdout",
     "output_type": "stream",
     "text": [
      "PARTITION AVAIL NODES STATE\n",
      "batch*       up  1567  idle\n",
      "devel        up    18  idle\n",
      "mem192       up   236  idle\n",
      "esm          up     5  idle\n",
      "large      down  1567  idle\n",
      "gpus         up    21  idle\n",
      "develgpus    up     8  idle\n",
      "maint        up  1619  idle\n"
     ]
    }
   ],
   "source": [
    "!sinfo -t idle --format=\"%9P %.5a %.5D %.5t\""
   ]
  },
  {
   "cell_type": "code",
   "execution_count": 11,
   "metadata": {},
   "outputs": [],
   "source": [
    "jobqueue_cluster = dask_jobqueue.SLURMCluster(\n",
    "    project=\"esmtst\", queue=\"devel\", walltime=\"00:15:00\",\n",
    "    cores=96, memory='79GiB', processes=1,\n",
    "    interface=\"ib0\", scheduler_options={},\n",
    "    #local_directory=\"$SCRATCH_cesmtst/hoeflich1\",\n",
    "    local_directory=\"/tmp\",\n",
    "    log_directory=\"dask-jobqueue-logs\",\n",
    ")"
   ]
  },
  {
   "cell_type": "code",
   "execution_count": 12,
   "metadata": {},
   "outputs": [],
   "source": [
    "jobqueue_cluster.scheduler.allowed_failures = cluster_resilience"
   ]
  },
  {
   "cell_type": "code",
   "execution_count": 13,
   "metadata": {},
   "outputs": [
    {
     "name": "stdout",
     "output_type": "stream",
     "text": [
      "#!/usr/bin/env bash\n",
      "\n",
      "#SBATCH -J dask-worker\n",
      "#SBATCH -e dask-jobqueue-logs/dask-worker-%J.err\n",
      "#SBATCH -o dask-jobqueue-logs/dask-worker-%J.out\n",
      "#SBATCH -p devel\n",
      "#SBATCH -A esmtst\n",
      "#SBATCH -n 1\n",
      "#SBATCH --cpus-per-task=96\n",
      "#SBATCH --mem=79G\n",
      "#SBATCH -t 00:15:00\n",
      "\n",
      "/gpfs/software/juwels/stages/Devel-2019a/software/Python/3.6.8-GCCcore-8.3.0/bin/python -m distributed.cli.dask_worker tcp://10.13.0.157:43509 --nthreads 96 --memory-limit 84.83GB --name name --nanny --death-timeout 60 --local-directory /tmp --interface ib0\n",
      "\n"
     ]
    }
   ],
   "source": [
    "print(jobqueue_cluster.job_script())"
   ]
  },
  {
   "cell_type": "code",
   "execution_count": 14,
   "metadata": {},
   "outputs": [],
   "source": [
    "client = dask_distributed.Client(jobqueue_cluster)"
   ]
  },
  {
   "cell_type": "code",
   "execution_count": 15,
   "metadata": {},
   "outputs": [
    {
     "data": {
      "text/html": [
       "<table style=\"border: 2px solid white;\">\n",
       "<tr>\n",
       "<td style=\"vertical-align: top; border: 0px solid white\">\n",
       "<h3 style=\"text-align: left;\">Client</h3>\n",
       "<ul style=\"text-align: left; list-style: none; margin: 0; padding: 0;\">\n",
       "  <li><b>Scheduler: </b>tcp://10.13.0.157:43509</li>\n",
       "  <li><b>Dashboard: </b><a href='/user/khoeflich@geomar.de/jupyterlab_1/proxy/8787/status' target='_blank'>/user/khoeflich@geomar.de/jupyterlab_1/proxy/8787/status</a>\n",
       "</ul>\n",
       "</td>\n",
       "<td style=\"vertical-align: top; border: 0px solid white\">\n",
       "<h3 style=\"text-align: left;\">Cluster</h3>\n",
       "<ul style=\"text-align: left; list-style:none; margin: 0; padding: 0;\">\n",
       "  <li><b>Workers: </b>0</li>\n",
       "  <li><b>Cores: </b>0</li>\n",
       "  <li><b>Memory: </b>0 B</li>\n",
       "</ul>\n",
       "</td>\n",
       "</tr>\n",
       "</table>"
      ],
      "text/plain": [
       "<Client: 'tcp://10.13.0.157:43509' processes=0 threads=0, memory=0 B>"
      ]
     },
     "execution_count": 15,
     "metadata": {},
     "output_type": "execute_result"
    }
   ],
   "source": [
    "client"
   ]
  },
  {
   "cell_type": "code",
   "execution_count": 16,
   "metadata": {},
   "outputs": [
    {
     "data": {
      "text/plain": [
       "<distributed.deploy.adaptive.Adaptive at 0x7f08c8394400>"
      ]
     },
     "execution_count": 16,
     "metadata": {},
     "output_type": "execute_result"
    }
   ],
   "source": [
    "jobqueue_cluster.adapt(\n",
    "    minimum_jobs=target_cluster_size_min,\n",
    "    maximum_jobs=target_cluster_size_max\n",
    ")"
   ]
  },
  {
   "cell_type": "code",
   "execution_count": 17,
   "metadata": {},
   "outputs": [],
   "source": [
    "time.sleep(wait_for_jobqueue_cluster_startup_in_seconds)"
   ]
  },
  {
   "cell_type": "code",
   "execution_count": 18,
   "metadata": {},
   "outputs": [
    {
     "name": "stdout",
     "output_type": "stream",
     "text": [
      "             JOBID PARTITION     NAME     USER ST       TIME  NODES NODELIST(REASON)\n",
      "           3028208     devel dask-wor hoeflich PD       0:00      1 (None)\n",
      "           3028209     devel dask-wor hoeflich PD       0:00      1 (None)\n",
      "           3028210     devel dask-wor hoeflich PD       0:00      1 (None)\n",
      "           3028211     devel dask-wor hoeflich PD       0:00      1 (None)\n",
      "           3028212     devel dask-wor hoeflich PD       0:00      1 (None)\n",
      "           3028213     devel dask-wor hoeflich PD       0:00      1 (None)\n",
      "           3028214     devel dask-wor hoeflich PD       0:00      1 (None)\n"
     ]
    }
   ],
   "source": [
    "!squeue -u $USER"
   ]
  },
  {
   "cell_type": "markdown",
   "metadata": {},
   "source": [
    "## Start preemption simulator"
   ]
  },
  {
   "cell_type": "code",
   "execution_count": 19,
   "metadata": {},
   "outputs": [],
   "source": [
    "%%script bash --bg --out stdout --err stderr\n",
    "\n",
    "echo $preemption_timeout_in_seconds\n",
    "echo $jobs_to_preempt\n",
    "\n",
    "while true; do\n",
    "\n",
    "sleep $preemption_timeout_in_seconds\n",
    "\n",
    "scancel $(squeue -u $USER | grep R | grep dask | awk '{print $1}' | \\\n",
    "          shuf --random-source=/dev/urandom -n $jobs_to_preempt)\n",
    "\n",
    "done"
   ]
  },
  {
   "cell_type": "markdown",
   "metadata": {},
   "source": [
    "## Workload example"
   ]
  },
  {
   "cell_type": "code",
   "execution_count": 20,
   "metadata": {},
   "outputs": [],
   "source": [
    "%run define-pi-workload.py"
   ]
  },
  {
   "cell_type": "code",
   "execution_count": 21,
   "metadata": {},
   "outputs": [],
   "source": [
    "# the worker status seems broken, needs a fix in Dask jobqueue?\n",
    "def get_running_worker_jobs(cluster):\n",
    "    worker_jobs = [\n",
    "        cluster.workers[worker_id].job_id\n",
    "        for worker_id in cluster.workers.keys()\n",
    "        if (cluster.workers[worker_id].status == 'running')\n",
    "    ]\n",
    "    return sorted(worker_jobs)\n",
    "\n",
    "# assumes that running Dask worker jobs are already/still connected to the cluster scheduler\n",
    "def get_running_worker_jobs(cluster):\n",
    "    worker_jobs = os.popen(\"squeue -u $USER | grep dask | grep R | awk '{ print $1 }'\").read().strip('\\n').split('\\n')\n",
    "    return sorted(worker_jobs)"
   ]
  },
  {
   "cell_type": "code",
   "execution_count": 22,
   "metadata": {},
   "outputs": [
    {
     "name": "stdout",
     "output_type": "stream",
     "text": [
      "workload cycle: 0\n",
      "jobs before: ['']\n",
      "pi estimate: 3.141588778848\n",
      "pi error: 3.874741793197245e-06\n",
      "wall time:  91.651s\n",
      "jobs after: ['3028208', '3028210', '3028211']\n",
      "\n",
      "3028208 devel dask-wor hoeflich CG 1:08 1 jwc00n002\n",
      "3028210 devel dask-wor hoeflich CG 1:08 1 jwc00n005\n",
      "3028216 devel dask-wor hoeflich PD 0:00 1 (None)\n",
      "3028211 devel dask-wor hoeflich R 1:09 1 jwc00n007\n",
      "\n"
     ]
    },
    {
     "ename": "KeyboardInterrupt",
     "evalue": "",
     "output_type": "error",
     "traceback": [
      "\u001b[0;31m---------------------------------------------------------------------------\u001b[0m",
      "\u001b[0;31mKeyboardInterrupt\u001b[0m                         Traceback (most recent call last)",
      "\u001b[0;32m<ipython-input-22-5ccdbca18661>\u001b[0m in \u001b[0;36m<module>\u001b[0;34m\u001b[0m\n\u001b[1;32m      5\u001b[0m     pi = calculate_pi(\n\u001b[1;32m      6\u001b[0m         \u001b[0msize_in_terabytes\u001b[0m\u001b[0;34m=\u001b[0m\u001b[0mworkload_size_in_terabytes\u001b[0m\u001b[0;34m,\u001b[0m\u001b[0;34m\u001b[0m\u001b[0;34m\u001b[0m\u001b[0m\n\u001b[0;32m----> 7\u001b[0;31m         \u001b[0mchunk_size_in_megabytes\u001b[0m\u001b[0;34m=\u001b[0m\u001b[0mworkload_chunk_size_in_megabytes\u001b[0m\u001b[0;34m\u001b[0m\u001b[0;34m\u001b[0m\u001b[0m\n\u001b[0m\u001b[1;32m      8\u001b[0m     ).compute()\n\u001b[1;32m      9\u001b[0m     \u001b[0mworker_jobs_end\u001b[0m \u001b[0;34m=\u001b[0m \u001b[0mget_running_worker_jobs\u001b[0m\u001b[0;34m(\u001b[0m\u001b[0mjobqueue_cluster\u001b[0m\u001b[0;34m)\u001b[0m\u001b[0;34m\u001b[0m\u001b[0;34m\u001b[0m\u001b[0m\n",
      "\u001b[0;32m/p/software/juwels/stages/Devel-2019a/software/Jupyter/2019a.2.3-gcccoremkl-8.3.0-2019.3.199-Python-3.6.8/lib/python3.6/site-packages/dask/base.py\u001b[0m in \u001b[0;36mcompute\u001b[0;34m(self, **kwargs)\u001b[0m\n\u001b[1;32m    163\u001b[0m         \u001b[0mdask\u001b[0m\u001b[0;34m.\u001b[0m\u001b[0mbase\u001b[0m\u001b[0;34m.\u001b[0m\u001b[0mcompute\u001b[0m\u001b[0;34m\u001b[0m\u001b[0;34m\u001b[0m\u001b[0m\n\u001b[1;32m    164\u001b[0m         \"\"\"\n\u001b[0;32m--> 165\u001b[0;31m         \u001b[0;34m(\u001b[0m\u001b[0mresult\u001b[0m\u001b[0;34m,\u001b[0m\u001b[0;34m)\u001b[0m \u001b[0;34m=\u001b[0m \u001b[0mcompute\u001b[0m\u001b[0;34m(\u001b[0m\u001b[0mself\u001b[0m\u001b[0;34m,\u001b[0m \u001b[0mtraverse\u001b[0m\u001b[0;34m=\u001b[0m\u001b[0;32mFalse\u001b[0m\u001b[0;34m,\u001b[0m \u001b[0;34m**\u001b[0m\u001b[0mkwargs\u001b[0m\u001b[0;34m)\u001b[0m\u001b[0;34m\u001b[0m\u001b[0;34m\u001b[0m\u001b[0m\n\u001b[0m\u001b[1;32m    166\u001b[0m         \u001b[0;32mreturn\u001b[0m \u001b[0mresult\u001b[0m\u001b[0;34m\u001b[0m\u001b[0;34m\u001b[0m\u001b[0m\n\u001b[1;32m    167\u001b[0m \u001b[0;34m\u001b[0m\u001b[0m\n",
      "\u001b[0;32m/p/software/juwels/stages/Devel-2019a/software/Jupyter/2019a.2.3-gcccoremkl-8.3.0-2019.3.199-Python-3.6.8/lib/python3.6/site-packages/dask/base.py\u001b[0m in \u001b[0;36mcompute\u001b[0;34m(*args, **kwargs)\u001b[0m\n\u001b[1;32m    434\u001b[0m     \u001b[0mkeys\u001b[0m \u001b[0;34m=\u001b[0m \u001b[0;34m[\u001b[0m\u001b[0mx\u001b[0m\u001b[0;34m.\u001b[0m\u001b[0m__dask_keys__\u001b[0m\u001b[0;34m(\u001b[0m\u001b[0;34m)\u001b[0m \u001b[0;32mfor\u001b[0m \u001b[0mx\u001b[0m \u001b[0;32min\u001b[0m \u001b[0mcollections\u001b[0m\u001b[0;34m]\u001b[0m\u001b[0;34m\u001b[0m\u001b[0;34m\u001b[0m\u001b[0m\n\u001b[1;32m    435\u001b[0m     \u001b[0mpostcomputes\u001b[0m \u001b[0;34m=\u001b[0m \u001b[0;34m[\u001b[0m\u001b[0mx\u001b[0m\u001b[0;34m.\u001b[0m\u001b[0m__dask_postcompute__\u001b[0m\u001b[0;34m(\u001b[0m\u001b[0;34m)\u001b[0m \u001b[0;32mfor\u001b[0m \u001b[0mx\u001b[0m \u001b[0;32min\u001b[0m \u001b[0mcollections\u001b[0m\u001b[0;34m]\u001b[0m\u001b[0;34m\u001b[0m\u001b[0;34m\u001b[0m\u001b[0m\n\u001b[0;32m--> 436\u001b[0;31m     \u001b[0mresults\u001b[0m \u001b[0;34m=\u001b[0m \u001b[0mschedule\u001b[0m\u001b[0;34m(\u001b[0m\u001b[0mdsk\u001b[0m\u001b[0;34m,\u001b[0m \u001b[0mkeys\u001b[0m\u001b[0;34m,\u001b[0m \u001b[0;34m**\u001b[0m\u001b[0mkwargs\u001b[0m\u001b[0;34m)\u001b[0m\u001b[0;34m\u001b[0m\u001b[0;34m\u001b[0m\u001b[0m\n\u001b[0m\u001b[1;32m    437\u001b[0m     \u001b[0;32mreturn\u001b[0m \u001b[0mrepack\u001b[0m\u001b[0;34m(\u001b[0m\u001b[0;34m[\u001b[0m\u001b[0mf\u001b[0m\u001b[0;34m(\u001b[0m\u001b[0mr\u001b[0m\u001b[0;34m,\u001b[0m \u001b[0;34m*\u001b[0m\u001b[0ma\u001b[0m\u001b[0;34m)\u001b[0m \u001b[0;32mfor\u001b[0m \u001b[0mr\u001b[0m\u001b[0;34m,\u001b[0m \u001b[0;34m(\u001b[0m\u001b[0mf\u001b[0m\u001b[0;34m,\u001b[0m \u001b[0ma\u001b[0m\u001b[0;34m)\u001b[0m \u001b[0;32min\u001b[0m \u001b[0mzip\u001b[0m\u001b[0;34m(\u001b[0m\u001b[0mresults\u001b[0m\u001b[0;34m,\u001b[0m \u001b[0mpostcomputes\u001b[0m\u001b[0;34m)\u001b[0m\u001b[0;34m]\u001b[0m\u001b[0;34m)\u001b[0m\u001b[0;34m\u001b[0m\u001b[0;34m\u001b[0m\u001b[0m\n\u001b[1;32m    438\u001b[0m \u001b[0;34m\u001b[0m\u001b[0m\n",
      "\u001b[0;32m/p/software/juwels/stages/Devel-2019a/software/Jupyter/2019a.2.3-gcccoremkl-8.3.0-2019.3.199-Python-3.6.8/lib/python3.6/site-packages/distributed/client.py\u001b[0m in \u001b[0;36mget\u001b[0;34m(self, dsk, keys, restrictions, loose_restrictions, resources, sync, asynchronous, direct, retries, priority, fifo_timeout, actors, **kwargs)\u001b[0m\n\u001b[1;32m   2543\u001b[0m                     \u001b[0mshould_rejoin\u001b[0m \u001b[0;34m=\u001b[0m \u001b[0;32mFalse\u001b[0m\u001b[0;34m\u001b[0m\u001b[0;34m\u001b[0m\u001b[0m\n\u001b[1;32m   2544\u001b[0m             \u001b[0;32mtry\u001b[0m\u001b[0;34m:\u001b[0m\u001b[0;34m\u001b[0m\u001b[0;34m\u001b[0m\u001b[0m\n\u001b[0;32m-> 2545\u001b[0;31m                 \u001b[0mresults\u001b[0m \u001b[0;34m=\u001b[0m \u001b[0mself\u001b[0m\u001b[0;34m.\u001b[0m\u001b[0mgather\u001b[0m\u001b[0;34m(\u001b[0m\u001b[0mpacked\u001b[0m\u001b[0;34m,\u001b[0m \u001b[0masynchronous\u001b[0m\u001b[0;34m=\u001b[0m\u001b[0masynchronous\u001b[0m\u001b[0;34m,\u001b[0m \u001b[0mdirect\u001b[0m\u001b[0;34m=\u001b[0m\u001b[0mdirect\u001b[0m\u001b[0;34m)\u001b[0m\u001b[0;34m\u001b[0m\u001b[0;34m\u001b[0m\u001b[0m\n\u001b[0m\u001b[1;32m   2546\u001b[0m             \u001b[0;32mfinally\u001b[0m\u001b[0;34m:\u001b[0m\u001b[0;34m\u001b[0m\u001b[0;34m\u001b[0m\u001b[0m\n\u001b[1;32m   2547\u001b[0m                 \u001b[0;32mfor\u001b[0m \u001b[0mf\u001b[0m \u001b[0;32min\u001b[0m \u001b[0mfutures\u001b[0m\u001b[0;34m.\u001b[0m\u001b[0mvalues\u001b[0m\u001b[0;34m(\u001b[0m\u001b[0;34m)\u001b[0m\u001b[0;34m:\u001b[0m\u001b[0;34m\u001b[0m\u001b[0;34m\u001b[0m\u001b[0m\n",
      "\u001b[0;32m/p/software/juwels/stages/Devel-2019a/software/Jupyter/2019a.2.3-gcccoremkl-8.3.0-2019.3.199-Python-3.6.8/lib/python3.6/site-packages/distributed/client.py\u001b[0m in \u001b[0;36mgather\u001b[0;34m(self, futures, errors, direct, asynchronous)\u001b[0m\n\u001b[1;32m   1843\u001b[0m                 \u001b[0mdirect\u001b[0m\u001b[0;34m=\u001b[0m\u001b[0mdirect\u001b[0m\u001b[0;34m,\u001b[0m\u001b[0;34m\u001b[0m\u001b[0;34m\u001b[0m\u001b[0m\n\u001b[1;32m   1844\u001b[0m                 \u001b[0mlocal_worker\u001b[0m\u001b[0;34m=\u001b[0m\u001b[0mlocal_worker\u001b[0m\u001b[0;34m,\u001b[0m\u001b[0;34m\u001b[0m\u001b[0;34m\u001b[0m\u001b[0m\n\u001b[0;32m-> 1845\u001b[0;31m                 \u001b[0masynchronous\u001b[0m\u001b[0;34m=\u001b[0m\u001b[0masynchronous\u001b[0m\u001b[0;34m,\u001b[0m\u001b[0;34m\u001b[0m\u001b[0;34m\u001b[0m\u001b[0m\n\u001b[0m\u001b[1;32m   1846\u001b[0m             )\n\u001b[1;32m   1847\u001b[0m \u001b[0;34m\u001b[0m\u001b[0m\n",
      "\u001b[0;32m/p/software/juwels/stages/Devel-2019a/software/Jupyter/2019a.2.3-gcccoremkl-8.3.0-2019.3.199-Python-3.6.8/lib/python3.6/site-packages/distributed/client.py\u001b[0m in \u001b[0;36msync\u001b[0;34m(self, func, asynchronous, callback_timeout, *args, **kwargs)\u001b[0m\n\u001b[1;32m    760\u001b[0m         \u001b[0;32melse\u001b[0m\u001b[0;34m:\u001b[0m\u001b[0;34m\u001b[0m\u001b[0;34m\u001b[0m\u001b[0m\n\u001b[1;32m    761\u001b[0m             return sync(\n\u001b[0;32m--> 762\u001b[0;31m                 \u001b[0mself\u001b[0m\u001b[0;34m.\u001b[0m\u001b[0mloop\u001b[0m\u001b[0;34m,\u001b[0m \u001b[0mfunc\u001b[0m\u001b[0;34m,\u001b[0m \u001b[0;34m*\u001b[0m\u001b[0margs\u001b[0m\u001b[0;34m,\u001b[0m \u001b[0mcallback_timeout\u001b[0m\u001b[0;34m=\u001b[0m\u001b[0mcallback_timeout\u001b[0m\u001b[0;34m,\u001b[0m \u001b[0;34m**\u001b[0m\u001b[0mkwargs\u001b[0m\u001b[0;34m\u001b[0m\u001b[0;34m\u001b[0m\u001b[0m\n\u001b[0m\u001b[1;32m    763\u001b[0m             )\n\u001b[1;32m    764\u001b[0m \u001b[0;34m\u001b[0m\u001b[0m\n",
      "\u001b[0;32m/p/software/juwels/stages/Devel-2019a/software/Jupyter/2019a.2.3-gcccoremkl-8.3.0-2019.3.199-Python-3.6.8/lib/python3.6/site-packages/distributed/utils.py\u001b[0m in \u001b[0;36msync\u001b[0;34m(loop, func, callback_timeout, *args, **kwargs)\u001b[0m\n\u001b[1;32m    328\u001b[0m     \u001b[0;32melse\u001b[0m\u001b[0;34m:\u001b[0m\u001b[0;34m\u001b[0m\u001b[0;34m\u001b[0m\u001b[0m\n\u001b[1;32m    329\u001b[0m         \u001b[0;32mwhile\u001b[0m \u001b[0;32mnot\u001b[0m \u001b[0me\u001b[0m\u001b[0;34m.\u001b[0m\u001b[0mis_set\u001b[0m\u001b[0;34m(\u001b[0m\u001b[0;34m)\u001b[0m\u001b[0;34m:\u001b[0m\u001b[0;34m\u001b[0m\u001b[0;34m\u001b[0m\u001b[0m\n\u001b[0;32m--> 330\u001b[0;31m             \u001b[0me\u001b[0m\u001b[0;34m.\u001b[0m\u001b[0mwait\u001b[0m\u001b[0;34m(\u001b[0m\u001b[0;36m10\u001b[0m\u001b[0;34m)\u001b[0m\u001b[0;34m\u001b[0m\u001b[0;34m\u001b[0m\u001b[0m\n\u001b[0m\u001b[1;32m    331\u001b[0m     \u001b[0;32mif\u001b[0m \u001b[0merror\u001b[0m\u001b[0;34m[\u001b[0m\u001b[0;36m0\u001b[0m\u001b[0;34m]\u001b[0m\u001b[0;34m:\u001b[0m\u001b[0;34m\u001b[0m\u001b[0;34m\u001b[0m\u001b[0m\n\u001b[1;32m    332\u001b[0m         \u001b[0mtyp\u001b[0m\u001b[0;34m,\u001b[0m \u001b[0mexc\u001b[0m\u001b[0;34m,\u001b[0m \u001b[0mtb\u001b[0m \u001b[0;34m=\u001b[0m \u001b[0merror\u001b[0m\u001b[0;34m[\u001b[0m\u001b[0;36m0\u001b[0m\u001b[0;34m]\u001b[0m\u001b[0;34m\u001b[0m\u001b[0;34m\u001b[0m\u001b[0m\n",
      "\u001b[0;32m/gpfs/software/juwels/stages/Devel-2019a/software/Python/3.6.8-GCCcore-8.3.0/lib/python3.6/threading.py\u001b[0m in \u001b[0;36mwait\u001b[0;34m(self, timeout)\u001b[0m\n\u001b[1;32m    549\u001b[0m             \u001b[0msignaled\u001b[0m \u001b[0;34m=\u001b[0m \u001b[0mself\u001b[0m\u001b[0;34m.\u001b[0m\u001b[0m_flag\u001b[0m\u001b[0;34m\u001b[0m\u001b[0;34m\u001b[0m\u001b[0m\n\u001b[1;32m    550\u001b[0m             \u001b[0;32mif\u001b[0m \u001b[0;32mnot\u001b[0m \u001b[0msignaled\u001b[0m\u001b[0;34m:\u001b[0m\u001b[0;34m\u001b[0m\u001b[0;34m\u001b[0m\u001b[0m\n\u001b[0;32m--> 551\u001b[0;31m                 \u001b[0msignaled\u001b[0m \u001b[0;34m=\u001b[0m \u001b[0mself\u001b[0m\u001b[0;34m.\u001b[0m\u001b[0m_cond\u001b[0m\u001b[0;34m.\u001b[0m\u001b[0mwait\u001b[0m\u001b[0;34m(\u001b[0m\u001b[0mtimeout\u001b[0m\u001b[0;34m)\u001b[0m\u001b[0;34m\u001b[0m\u001b[0;34m\u001b[0m\u001b[0m\n\u001b[0m\u001b[1;32m    552\u001b[0m             \u001b[0;32mreturn\u001b[0m \u001b[0msignaled\u001b[0m\u001b[0;34m\u001b[0m\u001b[0;34m\u001b[0m\u001b[0m\n\u001b[1;32m    553\u001b[0m \u001b[0;34m\u001b[0m\u001b[0m\n",
      "\u001b[0;32m/gpfs/software/juwels/stages/Devel-2019a/software/Python/3.6.8-GCCcore-8.3.0/lib/python3.6/threading.py\u001b[0m in \u001b[0;36mwait\u001b[0;34m(self, timeout)\u001b[0m\n\u001b[1;32m    297\u001b[0m             \u001b[0;32melse\u001b[0m\u001b[0;34m:\u001b[0m\u001b[0;34m\u001b[0m\u001b[0;34m\u001b[0m\u001b[0m\n\u001b[1;32m    298\u001b[0m                 \u001b[0;32mif\u001b[0m \u001b[0mtimeout\u001b[0m \u001b[0;34m>\u001b[0m \u001b[0;36m0\u001b[0m\u001b[0;34m:\u001b[0m\u001b[0;34m\u001b[0m\u001b[0;34m\u001b[0m\u001b[0m\n\u001b[0;32m--> 299\u001b[0;31m                     \u001b[0mgotit\u001b[0m \u001b[0;34m=\u001b[0m \u001b[0mwaiter\u001b[0m\u001b[0;34m.\u001b[0m\u001b[0macquire\u001b[0m\u001b[0;34m(\u001b[0m\u001b[0;32mTrue\u001b[0m\u001b[0;34m,\u001b[0m \u001b[0mtimeout\u001b[0m\u001b[0;34m)\u001b[0m\u001b[0;34m\u001b[0m\u001b[0;34m\u001b[0m\u001b[0m\n\u001b[0m\u001b[1;32m    300\u001b[0m                 \u001b[0;32melse\u001b[0m\u001b[0;34m:\u001b[0m\u001b[0;34m\u001b[0m\u001b[0;34m\u001b[0m\u001b[0m\n\u001b[1;32m    301\u001b[0m                     \u001b[0mgotit\u001b[0m \u001b[0;34m=\u001b[0m \u001b[0mwaiter\u001b[0m\u001b[0;34m.\u001b[0m\u001b[0macquire\u001b[0m\u001b[0;34m(\u001b[0m\u001b[0;32mFalse\u001b[0m\u001b[0;34m)\u001b[0m\u001b[0;34m\u001b[0m\u001b[0;34m\u001b[0m\u001b[0m\n",
      "\u001b[0;31mKeyboardInterrupt\u001b[0m: "
     ]
    }
   ],
   "source": [
    "for workload_cycle in range(repeat_workloads):\n",
    "\n",
    "    start = time.time()\n",
    "    worker_jobs_begin = get_running_worker_jobs(jobqueue_cluster)\n",
    "    pi = calculate_pi(\n",
    "        size_in_terabytes=workload_size_in_terabytes,\n",
    "        chunk_size_in_megabytes=workload_chunk_size_in_megabytes\n",
    "    ).compute()\n",
    "    worker_jobs_end = get_running_worker_jobs(jobqueue_cluster)\n",
    "    elapse = time.time() - start\n",
    "\n",
    "    print(f\"workload cycle: {workload_cycle}\")\n",
    "    print(f\"jobs before: {worker_jobs_begin}\")\n",
    "    print(f\"pi estimate: {pi}\")\n",
    "    print(f\"pi error: {abs(pi - numpy.pi)}\")\n",
    "    print(f\"wall time: {elapse : 7.3f}s\")\n",
    "    print(f\"jobs after: {worker_jobs_end}\")\n",
    "    !squeue -u $USER | grep dask | awk '{print $1, $2, $3, $4, $5, $6, $7, $8}'\n",
    "    print(f\"\")\n",
    "\n",
    "    time.sleep(sleep_between_repeat_workloads_in_seconds)"
   ]
  },
  {
   "cell_type": "markdown",
   "metadata": {},
   "source": [
    "## Stop preemption simulator"
   ]
  },
  {
   "cell_type": "code",
   "execution_count": 23,
   "metadata": {},
   "outputs": [
    {
     "name": "stdout",
     "output_type": "stream",
     "text": [
      "All background processes were killed.\n"
     ]
    }
   ],
   "source": [
    "%killbgscripts"
   ]
  },
  {
   "cell_type": "code",
   "execution_count": 24,
   "metadata": {},
   "outputs": [
    {
     "name": "stdout",
     "output_type": "stream",
     "text": [
      "30\n",
      "2\n",
      "\n"
     ]
    }
   ],
   "source": [
    "print(stdout.read().decode(\"ascii\"))"
   ]
  },
  {
   "cell_type": "code",
   "execution_count": 25,
   "metadata": {},
   "outputs": [
    {
     "name": "stdout",
     "output_type": "stream",
     "text": [
      "scancel: error: No job identification provided\n",
      "scancel: error: No job identification provided\n",
      "scancel: error: No job identification provided\n",
      "scancel: error: No job identification provided\n",
      "scancel: error: No job identification provided\n",
      "scancel: error: No job identification provided\n",
      "scancel: error: No job identification provided\n",
      "scancel: error: No job identification provided\n",
      "scancel: error: No job identification provided\n",
      "scancel: error: No job identification provided\n",
      "scancel: error: No job identification provided\n",
      "scancel: error: No job identification provided\n",
      "\n"
     ]
    }
   ],
   "source": [
    "print(stderr.read().decode(\"ascii\"))"
   ]
  },
  {
   "cell_type": "markdown",
   "metadata": {},
   "source": [
    "## Jupyter kernel env"
   ]
  },
  {
   "cell_type": "code",
   "execution_count": 26,
   "metadata": {},
   "outputs": [
    {
     "name": "stdout",
     "output_type": "stream",
     "text": [
      "\n",
      "Currently Loaded Modules:\n",
      "  1) Stages/Devel-2019a                       (\u001b[1;31mS\u001b[0m)\n",
      "  2) \u001b[2mGCCcore/.8.3.0\u001b[0m                           (H)\n",
      "  3) \u001b[2mbinutils/.2.32\u001b[0m                           (H)\n",
      "  4) \u001b[2mimkl/.2019.3.199\u001b[0m                         (H)\n",
      "  5) \u001b[2mbzip2/.1.0.6\u001b[0m                             (H)\n",
      "  6) \u001b[2mzlib/.1.2.11\u001b[0m                             (H)\n",
      "  7) \u001b[2mncurses/.6.1\u001b[0m                             (H)\n",
      "  8) \u001b[2mlibreadline/.8.0\u001b[0m                         (H)\n",
      "  9) Tcl/8.6.9\n",
      " 10) \u001b[2mSQLite/.3.27.2\u001b[0m                           (H)\n",
      " 11) \u001b[2mexpat/.2.2.6\u001b[0m                             (H)\n",
      " 12) \u001b[2mlibpng/.1.6.36\u001b[0m                           (H)\n",
      " 13) \u001b[2mfreetype/.2.10.0\u001b[0m                         (H)\n",
      " 14) \u001b[2mgperf/.3.1\u001b[0m                               (H)\n",
      " 15) \u001b[2mutil-linux/.2.33.1\u001b[0m                       (H)\n",
      " 16) \u001b[2mfontconfig/.2.13.1\u001b[0m                       (H)\n",
      " 17) X11/20190311\n",
      " 18) \u001b[2mTk/.8.6.9\u001b[0m                                (H)\n",
      " 19) GMP/6.1.2\n",
      " 20) \u001b[2mXZ/.5.2.4\u001b[0m                                (H)\n",
      " 21) \u001b[2mlibxml2/.2.9.9\u001b[0m                           (H)\n",
      " 22) \u001b[2mlibxslt/.1.1.33\u001b[0m                          (H)\n",
      " 23) \u001b[2mlibffi/.3.2.1\u001b[0m                            (H)\n",
      " 24) \u001b[2mlibyaml/.0.2.2\u001b[0m                           (H)\n",
      " 25) Java/1.8\n",
      " 26) PostgreSQL/11.2\n",
      " 27) \u001b[2mprotobuf/.3.7.1\u001b[0m                          (H)\n",
      " 28) \u001b[2mgflags/.2.2.2\u001b[0m                            (H)\n",
      " 29) \u001b[2mlibspatialindex/.1.9.0\u001b[0m                   (H)\n",
      " 30) \u001b[2mNASM/.2.14.02\u001b[0m                            (H)\n",
      " 31) \u001b[2mlibjpeg-turbo/.2.0.2\u001b[0m                     (H)\n",
      " 32) Python/3.6.8\n",
      " 33) pandoc/2.7.2\n",
      " 34) texlive/2018\n",
      " 35) \u001b[2mSzip/.2.1.1\u001b[0m                              (H)\n",
      " 36) HDF5/1.10.5-serial\n",
      " 37) Eigen/3.3.7\n",
      " 38) \u001b[2mnettle/.3.4\u001b[0m                              (H)\n",
      " 39) \u001b[2mlibdrm/.2.4.97\u001b[0m                           (H)\n",
      " 40) LLVM/8.0.0\n",
      " 41) \u001b[2mlibunwind/.1.3.1\u001b[0m                         (H)\n",
      " 42) \u001b[2mnvidia/.driver\u001b[0m                           (H,\u001b[1;31mg\u001b[0m)\n",
      " 43) OpenGL/2019a                             (\u001b[1;31mg\u001b[0m)\n",
      " 44) VTK/8.2.0-opengl-Python-3.6.8\n",
      " 45) ITK/5.1rc02-Python-3.6.8\n",
      " 46) cURL/7.64.1\n",
      " 47) netCDF/4.6.3-serial\n",
      " 48) netcdf4-python/1.5.3-serial-Python-3.6.8\n",
      " 49) \u001b[2mx264/.20190429\u001b[0m                           (H)\n",
      " 50) \u001b[2mFFmpeg/.4.1.3\u001b[0m                            (H)\n",
      " 51) \u001b[2mgettext/.0.19.8.1\u001b[0m                        (H)\n",
      " 52) Perl/5.28.1\n",
      " 53) git/2.21.0\n",
      " 54) SciPy-Stack/2019a.1-Python-3.6.8\n",
      " 55) Jupyter/2019a.2.3-Python-3.6.8\n",
      " 56) JupyterKernel-Bash/0.7.1-2019a.2.3\n",
      " 57) \u001b[2mcling/.0.6dev\u001b[0m                            (H)\n",
      " 58) JupyterKernel-Cling/0.6-2019a.2.3\n",
      " 59) JupyterKernel-JavaScript/5.2.0-2019a.2.3\n",
      " 60) Julia/1.4.2\n",
      " 61) JupyterKernel-Julia/1.4.2-2019a.2.3\n",
      " 62) JupyterKernel-Octave/5.1.0-2019a.2.3\n",
      " 63) JupyterKernel-PyParaView/5.8.0-2019a.2.3\n",
      " 64) JupyterKernel-PyQuantum/1.0-2019a.2.3\n",
      " 65) \u001b[2mPCRE/.8.43\u001b[0m                               (H)\n",
      " 66) \u001b[2mGLib/.2.60.0\u001b[0m                             (H)\n",
      " 67) \u001b[2mpixman/.0.38.0\u001b[0m                           (H)\n",
      " 68) \u001b[2mcairo/.1.17.2\u001b[0m                            (H)\n",
      " 69) \u001b[2mLibTIFF/.4.0.10\u001b[0m                          (H)\n",
      " 70) \u001b[2mNLopt/.2.5.0\u001b[0m                             (H)\n",
      " 71) ZeroMQ/4.3.2\n",
      " 72) R/3.5.3-jupyter\n",
      " 73) JupyterKernel-R/3.5.3-2019a.2.3\n",
      " 74) Ruby/2.6.3\n",
      " 75) JupyterKernel-Ruby/2.6.3-2019a.2.3\n",
      " 76) JupyterCollection/2019a.2.3\n",
      "\n",
      "  Where:\n",
      "   \u001b[1;31mS\u001b[0m:  Module is Sticky, requires --force to unload or purge\n",
      "   \u001b[1;31mg\u001b[0m:  built for GPU\n",
      "   H:             Hidden Module\n",
      "\n",
      " \n",
      "\n"
     ]
    }
   ],
   "source": [
    "!module --redirect list"
   ]
  },
  {
   "cell_type": "code",
   "execution_count": 27,
   "metadata": {},
   "outputs": [
    {
     "name": "stdout",
     "output_type": "stream",
     "text": [
      "Package                            Version  \n",
      "---------------------------------- ---------\n",
      "absl-py                            0.8.1    \n",
      "aiohttp                            3.6.2    \n",
      "alabaster                          0.7.12   \n",
      "alembic                            1.0.8    \n",
      "altair                             3.3.0    \n",
      "ansi2html                          1.5.2    \n",
      "ansiwrap                           0.8.4    \n",
      "apipkg                             1.5      \n",
      "appdirs                            1.4.3    \n",
      "appmode                            0.6.0    \n",
      "argcomplete                        1.9.5    \n",
      "arviz                              0.5.1    \n",
      "asn1crypto                         0.24.0   \n",
      "astroid                            2.3.3    \n",
      "async-generator                    1.10     \n",
      "async-timeout                      3.0.1    \n",
      "atomicwrites                       1.3.0    \n",
      "attrs                              19.1.0   \n",
      "autobahn                           19.10.1  \n",
      "Automat                            0.8.0    \n",
      "autopep8                           1.4.4    \n",
      "Babel                              2.7.0    \n",
      "backcall                           0.1.0    \n",
      "backports.shutil-get-terminal-size 1.0.0    \n",
      "backports.tempfile                 1.0      \n",
      "backports.weakref                  1.0.post1\n",
      "bash-kernel                        0.7.1    \n",
      "bcrypt                             3.1.6    \n",
      "bitstring                          3.1.5    \n",
      "black                              19.3b0   \n",
      "bleach                             3.1.1    \n",
      "blist                              1.3.6    \n",
      "bokeh                              2.0.2    \n",
      "bqplot                             0.12.6   \n",
      "branca                             0.3.1    \n",
      "certifi                            2019.3.9 \n",
      "certipy                            0.1.3    \n",
      "cffi                               1.12.2   \n",
      "cftime                             1.0.4.2  \n",
      "chardet                            3.0.4    \n",
      "Click                              7.0      \n",
      "clingkernel                        0.0.2    \n",
      "cloudpickle                        1.4.1    \n",
      "ClusterShell                       1.8      \n",
      "colorama                           0.4.1    \n",
      "colorcet                           2.0.2    \n",
      "commonmark                         0.9.1    \n",
      "configparser                       3.7.4    \n",
      "constantly                         15.1.0   \n",
      "coverage                           5.1      \n",
      "cryptography                       2.8      \n",
      "cssselect                          1.1.0    \n",
      "cycler                             0.10.0   \n",
      "Cython                             0.29.6   \n",
      "dash                               1.16.0   \n",
      "dash-bio                           0.4.8    \n",
      "dash-bootstrap-components          0.10.5   \n",
      "dash-canvas                        0.1.0    \n",
      "dash-core-components               1.12.0   \n",
      "dash-cytoscape                     0.2.0    \n",
      "dash-daq                           0.5.0    \n",
      "dash-html-components               1.1.1    \n",
      "dash-player                        0.0.1    \n",
      "dash-renderer                      1.8.0    \n",
      "dash-table                         4.10.1   \n",
      "dask                               2.6.0    \n",
      "dask-jobqueue                      0.7.1    \n",
      "dask-labextension                  2.0.2    \n",
      "dataclasses                        0.7      \n",
      "datashader                         0.9.0    \n",
      "datashape                          0.5.2    \n",
      "deap                               1.2.2    \n",
      "decorator                          4.4.0    \n",
      "defusedxml                         0.6.0    \n",
      "dicom-upload                       0.2.0    \n",
      "distributed                        2.6.0    \n",
      "docutils                           0.15.2   \n",
      "ecdsa                              0.13     \n",
      "entrypoints                        0.3      \n",
      "enum34                             1.1.6    \n",
      "execnet                            1.6.0    \n",
      "fastcore                           1.0.0    \n",
      "fastscript                         1.0.0    \n",
      "flake8                             3.8.3    \n",
      "Flask                              1.1.1    \n",
      "Flask-Caching                      1.9.0    \n",
      "Flask-Compress                     1.4.0    \n",
      "fsspec                             0.6.2    \n",
      "funcsigs                           1.0.2    \n",
      "future                             0.18.1   \n",
      "gitdb2                             2.0.6    \n",
      "GitPython                          3.0.4    \n",
      "grako                              3.99.9   \n",
      "graphviz                           0.13.2   \n",
      "h5py                               2.10.0   \n",
      "HeapDict                           1.0.1    \n",
      "hiredis                            1.1.0    \n",
      "holoviews                          1.13.2   \n",
      "html5lib                           1.0.1    \n",
      "hyperlink                          19.0.0   \n",
      "idna                               2.8      \n",
      "idna-ssl                           1.1.0    \n",
      "imageio                            2.6.1    \n",
      "imagesize                          1.1.0    \n",
      "importlib-metadata                 0.23     \n",
      "incremental                        17.5.0   \n",
      "ipaddress                          1.0.22   \n",
      "ipydatawidgets                     4.0.1    \n",
      "ipykernel                          5.1.3    \n",
      "ipyleaflet                         0.13.0   \n",
      "ipympl                             0.4.1    \n",
      "ipynb                              0.5.1    \n",
      "ipyparallel                        6.2.4    \n",
      "ipython                            7.9.0    \n",
      "ipython-genutils                   0.2.0    \n",
      "ipythonblocks                      1.9.0    \n",
      "ipyvolume                          0.6.0a6  \n",
      "ipyvue                             1.3.2    \n",
      "ipyvuetify                         1.4.0    \n",
      "ipywebrtc                          0.5.0    \n",
      "ipywidgets                         7.5.1    \n",
      "isodate                            0.6.0    \n",
      "isort                              4.3.21   \n",
      "itk-core                           5.1.0    \n",
      "itk-filtering                      5.1.0    \n",
      "itk-io                             5.1.0    \n",
      "itk-numerics                       5.1.0    \n",
      "itk-registration                   5.1.0    \n",
      "itk-segmentation                   5.1.0    \n",
      "itkwidgets                         0.27.0   \n",
      "itsdangerous                       1.1.0    \n",
      "jedi                               0.17.2   \n",
      "Jinja2                             2.11.1   \n",
      "joblib                             0.14.1   \n",
      "jsfileupload                       0.2.0    \n",
      "json5                              0.8.5    \n",
      "jsonschema                         3.1.1    \n",
      "julia                              0.5.3    \n",
      "jupyter-bokeh                      2.0.2    \n",
      "jupyter-client                     6.1.3    \n",
      "jupyter-contrib-core               0.3.3    \n",
      "jupyter-contrib-nbextensions       0.5.1    \n",
      "jupyter-core                       4.6.3    \n",
      "jupyter-dash                       0.3.0    \n",
      "jupyter-highlight-selected-word    0.2.0    \n",
      "jupyter-kernel-gateway             2.4.1    \n",
      "jupyter-latex-envs                 1.4.6    \n",
      "jupyter-lsp                        0.9.2    \n",
      "jupyter-nbextensions-configurator  0.4.1    \n",
      "jupyter-packaging                  0.4.0    \n",
      "jupyter-server                     0.1.1    \n",
      "jupyter-server-proxy               1.5.0    \n",
      "jupyter-telemetry                  0.1.0    \n",
      "jupyterhub                         1.1.0    \n",
      "jupyterlab                         2.2.2    \n",
      "jupyterlab-code-formatter          1.3.1    \n",
      "jupyterlab-git                     0.20.0   \n",
      "jupyterlab-github                  2.0.0    \n",
      "jupyterlab-gitlab                  2.0.0    \n",
      "jupyterlab-latex                   2.0.0    \n",
      "jupyterlab-launcher                0.13.1   \n",
      "jupyterlab-pygments                0.1.0    \n",
      "jupyterlab-quickopen               0.5.0    \n",
      "jupyterlab-server                  1.1.1    \n",
      "jupyterlmod                        2.0.0    \n",
      "jupyterthemes                      0.20.0   \n",
      "kiwisolver                         1.0.1    \n",
      "lazy-object-proxy                  1.4.3    \n",
      "lesscpy                            0.13.0   \n",
      "liac-arff                          2.4.0    \n",
      "line-profiler                      2.1.2    \n",
      "llvmlite                           0.30.0   \n",
      "locket                             0.2.0    \n",
      "lockfile                           0.12.2   \n",
      "lxml                               4.3.3    \n",
      "Mako                               1.0.8    \n",
      "Markdown                           3.2.2    \n",
      "MarkupSafe                         1.1.1    \n",
      "matplotlib                         3.0.3    \n",
      "mccabe                             0.6.1    \n",
      "memory-profiler                    0.55.0   \n",
      "metakernel                         0.27.0   \n",
      "mistune                            0.8.4    \n",
      "mock                               4.0.2    \n",
      "more-itertools                     7.0.0    \n",
      "mpmath                             1.1.0    \n",
      "msgpack                            0.6.2    \n",
      "multidict                          4.7.5    \n",
      "multipledispatch                   0.6.0    \n",
      "nbconvert                          5.6.1    \n",
      "nbdev                              1.0.1    \n",
      "nbdime                             2.0.0    \n",
      "nbformat                           5.0.4    \n",
      "nbresuse                           0.3.2    \n",
      "netaddr                            0.7.19   \n",
      "netCDF4                            1.5.3    \n",
      "netifaces                          0.10.9   \n",
      "networkx                           2.3      \n",
      "nose                               1.3.7    \n",
      "notebook                           6.0.3    \n",
      "numba                              0.46.0   \n",
      "numexpr                            2.7.1    \n",
      "numpy                              1.17.5   \n",
      "oauthlib                           3.1.0    \n",
      "octave-kernel                      0.31.0   \n",
      "olefile                            0.46     \n",
      "packaging                          19.0     \n",
      "pamela                             1.0.0    \n",
      "pandas                             0.25.3   \n",
      "pandocfilters                      1.4.2    \n",
      "panel                              0.9.5    \n",
      "papermill                          1.2.1    \n",
      "param                              1.9.3    \n",
      "paramiko                           2.4.2    \n",
      "parso                              0.7.0    \n",
      "partd                              1.1.0    \n",
      "pathlib2                           2.3.3    \n",
      "pathspec                           0.6.0    \n",
      "patsy                              0.5.1    \n",
      "paycheck                           1.0.2    \n",
      "pbr                                5.1.3    \n",
      "pexpect                            4.7.0    \n",
      "pickleshare                        0.7.5    \n",
      "Pillow                             6.0.0    \n",
      "pip                                19.0.3   \n",
      "plotly                             4.8.1    \n",
      "pluggy                             0.13.1   \n",
      "ply                                3.11     \n",
      "prometheus-client                  0.7.1    \n",
      "prompt-toolkit                     2.0.9    \n",
      "protobuf                           3.7.1    \n",
      "prov                               1.5.3    \n",
      "psutil                             5.6.1    \n",
      "psycopg2                           2.7.7    \n",
      "ptvsd                              4.3.2    \n",
      "ptyprocess                         0.6.0    \n",
      "pvlink                             0.3.1    \n",
      "py                                 1.8.0    \n",
      "pyasn1                             0.4.8    \n",
      "pyasn1-modules                     0.2.8    \n",
      "pybind11                           2.4.3    \n",
      "pycodestyle                        2.6.0    \n",
      "pycparser                          2.19     \n",
      "pycrypto                           2.6.1    \n",
      "pyct                               0.4.6    \n",
      "pydicom                            1.4.2    \n",
      "pydocstyle                         5.0.2    \n",
      "pydot                              1.4.1    \n",
      "pydotplus                          2.0.2    \n",
      "pydub                              0.23.1   \n",
      "pyflakes                           2.2.0    \n",
      "Pygments                           2.5.2    \n",
      "PyHamcrest                         1.9.0    \n",
      "pylint                             2.4.4    \n",
      "pymc3                              3.8      \n",
      "PyNaCl                             1.3.0    \n",
      "pynvml                             8.0.4    \n",
      "pyOpenSSL                          19.1.0   \n",
      "pyparsing                          2.3.1    \n",
      "pyrsistent                         0.14.11  \n",
      "pytest                             5.4.1    \n",
      "pytest-cov                         2.8.1    \n",
      "pytest-forked                      1.0.2    \n",
      "pytest-runner                      4.4      \n",
      "pytest-xdist                       1.27.0   \n",
      "pytest-xprocess                    0.13.1   \n",
      "python-dateutil                    2.8.0    \n",
      "python-dotenv                      0.10.3   \n",
      "python-editor                      1.0.4    \n",
      "python-gflags                      3.1.2    \n",
      "python-json-logger                 0.1.11   \n",
      "python-jsonrpc-server              0.3.4    \n",
      "python-language-server             0.34.1   \n",
      "python-oauth2                      1.1.0    \n",
      "pythreejs                          2.2.0    \n",
      "pytz                               2019.1   \n",
      "pyviz-comms                        0.7.4    \n",
      "PyWavelets                         1.1.1    \n",
      "PyYAML                             5.1.2    \n",
      "pyzmq                              18.1.0   \n",
      "rdflib                             4.2.2    \n",
      "recommonmark                       0.6.0    \n",
      "redis                              3.5.3    \n",
      "regex                              2019.11.1\n",
      "requests                           2.21.0   \n",
      "retrying                           1.3.3    \n",
      "rise                               5.6.0    \n",
      "rope                               0.16.0   \n",
      "Rtree                              0.8.3    \n",
      "ruamel.yaml                        0.16.5   \n",
      "ruamel.yaml.clib                   0.1.2    \n",
      "scandir                            1.10.0   \n",
      "scikit-image                       0.16.2   \n",
      "scikit-learn                       0.22     \n",
      "scipy                              1.2.1    \n",
      "seaborn                            0.9.0    \n",
      "selenium                           3.141.0  \n",
      "Send2Trash                         1.5.0    \n",
      "service-identity                   18.1.0   \n",
      "setuptools                         40.6.2   \n",
      "setuptools-scm                     3.2.0    \n",
      "sidecar                            0.4.0    \n",
      "simpervisor                        0.3      \n",
      "simplegeneric                      0.8.1    \n",
      "simplejson                         3.16.0   \n",
      "singledispatch                     3.4.0.3  \n",
      "six                                1.12.0   \n",
      "smmap2                             2.0.5    \n",
      "smopy                              0.0.7    \n",
      "snowballstemmer                    2.0.0    \n",
      "sortedcontainers                   2.1.0    \n",
      "SPARQLWrapper                      1.8.2    \n",
      "Sphinx                             1.8.5    \n",
      "sphinx-rtd-theme                   0.4.3    \n",
      "sphinxcontrib-websupport           1.1.2    \n",
      "SQLAlchemy                         1.3.1    \n",
      "statsmodels                        0.10.2   \n",
      "sympy                              1.4      \n",
      "tailer                             0.4.1    \n",
      "TatSu                              4.2.6    \n",
      "tblib                              1.5.0    \n",
      "tenacity                           6.0.0    \n",
      "terminado                          0.8.3    \n",
      "testpath                           0.4.4    \n",
      "textwrap3                          0.9.2    \n",
      "Theano                             1.0.4    \n",
      "tikzplotlib                        0.8.4    \n",
      "toml                               0.10.0   \n",
      "toolz                              0.9.0    \n",
      "tornado                            6.0.3    \n",
      "tqdm                               4.41.0   \n",
      "traitlets                          4.3.3    \n",
      "traits                             5.0.0    \n",
      "traittypes                         0.2.1    \n",
      "Twisted                            19.7.0   \n",
      "txaio                              18.8.1   \n",
      "typed-ast                          1.4.0    \n",
      "typing                             3.6.6    \n",
      "typing-extensions                  3.7.4.2  \n",
      "ujson                              1.35     \n",
      "urllib3                            1.24.1   \n",
      "vcversioner                        2.16.0.0 \n",
      "vega-datasets                      0.8.0    \n",
      "version-information                1.0.3    \n",
      "versioneer                         0.18     \n",
      "vincent                            0.4.4    \n",
      "voila                              0.1.21   \n",
      "voila-gridstack                    0.0.8    \n",
      "voila-material                     0.3.0    \n",
      "voila-vuetify                      0.3.0    \n",
      "wcwidth                            0.1.7    \n",
      "webencodings                       0.5.1    \n",
      "websockify                         0.9.0    \n",
      "Werkzeug                           1.0.1    \n",
      "wheel                              0.33.1   \n",
      "widgetsnbextension                 3.5.1    \n",
      "wrapt                              1.11.2   \n",
      "wslink                             0.1.13   \n",
      "xarray                             0.12.1   \n",
      "XlsxWriter                         1.1.5    \n",
      "yapf                               0.28.0   \n",
      "yarl                               1.4.2    \n",
      "zict                               1.0.0    \n",
      "zipp                               0.6.0    \n",
      "zope.interface                     4.6.0    \n",
      "zstandard                          0.12.0   \n"
     ]
    }
   ],
   "source": [
    "!pip list"
   ]
  }
 ],
 "metadata": {
  "kernelspec": {
   "display_name": "Python 3",
   "language": "python",
   "name": "python3"
  },
  "language_info": {
   "codemirror_mode": {
    "name": "ipython",
    "version": 3
   },
   "file_extension": ".py",
   "mimetype": "text/x-python",
   "name": "python",
   "nbconvert_exporter": "python",
   "pygments_lexer": "ipython3",
   "version": "3.6.8"
  }
 },
 "nbformat": 4,
 "nbformat_minor": 4
}
