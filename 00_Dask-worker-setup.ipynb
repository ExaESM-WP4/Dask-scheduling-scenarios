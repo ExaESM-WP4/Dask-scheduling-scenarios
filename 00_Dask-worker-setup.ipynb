{
 "cells": [
  {
   "cell_type": "markdown",
   "metadata": {},
   "source": [
    "# Dask jobqueue worker specification\n",
    "For setting up Dask jobqueue workers (especially on single-tenant node systems) the full node resources, i.e. available CPUs and free memory have to be known. Here, also a brief description of Dask memory management and how threshold values for Dask jobqueue workers on diskless nodes might be set up is given."
   ]
  },
  {
   "cell_type": "markdown",
   "metadata": {},
   "source": [
    "## Node cores"
   ]
  },
  {
   "cell_type": "code",
   "execution_count": 1,
   "metadata": {},
   "outputs": [
    {
     "name": "stdout",
     "output_type": "stream",
     "text": [
      "srun: job 3029293 queued and waiting for resources\n",
      "srun: job 3029293 has been allocated resources\n",
      "Architecture:        x86_64\n",
      "CPU op-mode(s):      32-bit, 64-bit\n",
      "Byte Order:          Little Endian\n",
      "Address sizes:       46 bits physical, 48 bits virtual\n",
      "CPU(s):              96\n",
      "On-line CPU(s) list: 0-95\n",
      "Thread(s) per core:  2\n",
      "Core(s) per socket:  24\n",
      "Socket(s):           2\n",
      "NUMA node(s):        2\n",
      "Vendor ID:           GenuineIntel\n",
      "CPU family:          6\n",
      "Model:               85\n",
      "Model name:          Intel(R) Xeon(R) Platinum 8168 CPU @ 2.70GHz\n",
      "Stepping:            4\n",
      "CPU MHz:             3347.417\n",
      "CPU max MHz:         3700.0000\n",
      "CPU min MHz:         1200.0000\n",
      "BogoMIPS:            5400.00\n",
      "Virtualization:      VT-x\n",
      "L1d cache:           32K\n",
      "L1i cache:           32K\n",
      "L2 cache:            1024K\n",
      "L3 cache:            33792K\n",
      "NUMA node0 CPU(s):   0-23,48-71\n",
      "NUMA node1 CPU(s):   24-47,72-95\n",
      "Flags:               fpu vme de pse tsc msr pae mce cx8 apic sep mtrr pge mca cmov pat pse36 clflush dts acpi mmx fxsr sse sse2 ss ht tm pbe syscall nx pdpe1gb rdtscp lm constant_tsc art arch_perfmon pebs bts rep_good nopl xtopology nonstop_tsc cpuid aperfmperf pni pclmulqdq dtes64 monitor ds_cpl vmx smx est tm2 ssse3 sdbg fma cx16 xtpr pdcm pcid dca sse4_1 sse4_2 x2apic movbe popcnt tsc_deadline_timer aes xsave avx f16c rdrand lahf_lm abm 3dnowprefetch cpuid_fault epb cat_l3 cdp_l3 invpcid_single pti intel_ppin ssbd mba ibrs ibpb stibp tpr_shadow vnmi flexpriority ept vpid fsgsbase tsc_adjust bmi1 hle avx2 smep bmi2 erms invpcid rtm cqm mpx rdt_a avx512f avx512dq rdseed adx smap clflushopt clwb intel_pt avx512cd avx512bw avx512vl xsaveopt xsavec xgetbv1 xsaves cqm_llc cqm_occup_llc cqm_mbm_total cqm_mbm_local dtherm ida arat pln pts hwp hwp_act_window hwp_epp hwp_pkg_req pku ospke flush_l1d\n"
     ]
    }
   ],
   "source": [
    "srun --account=esmtst --time=00:05:00 --partition=batch lscpu"
   ]
  },
  {
   "cell_type": "markdown",
   "metadata": {},
   "source": [
    "## Node memory"
   ]
  },
  {
   "cell_type": "code",
   "execution_count": 2,
   "metadata": {},
   "outputs": [
    {
     "name": "stdout",
     "output_type": "stream",
     "text": [
      "srun: job 3029296 queued and waiting for resources\n",
      "srun: job 3029296 has been allocated resources\n",
      "top - 11:11:10 up 8 days, 17:35,  0 users,  load average: 0.10, 1.72, 7.03\n",
      "Tasks: 901 total,   1 running, 900 sleeping,   0 stopped,   0 zombie\n",
      "%Cpu(s):  0.0 us,  0.2 sy,  0.0 ni, 99.8 id,  0.0 wa,  0.0 hi,  0.0 si,  0.0 st\n",
      "MiB Mem :  94806.0 total,  85146.4 free,   5790.7 used,   3868.9 buff/cache\n",
      "MiB Swap:      0.0 total,      0.0 free,      0.0 used.  84920.0 avail Mem \n"
     ]
    }
   ],
   "source": [
    "srun --account=esmtst --time=00:05:00 --partition=batch top -b -n 1 | head -n 5"
   ]
  },
  {
   "cell_type": "markdown",
   "metadata": {},
   "source": [
    "## Worker specification\n",
    "Based on the outputs above we'll specify Dask jobqueue workers with `cores=96` and `memory=85146MiB`. For SLURM clusters the single Dask workers will automatically inherit memory limits from the specification in the job script header. It is not strictly necessary to provide a \"security margin\" for the memory already in the job script, as Dask itself is designed to take care of staying below a certain memory limit and will pause and/or even kill a worker process that gets close to / or exceeds the specified memory limit.\n",
    "\n",
    "The default memory thresholds are:"
   ]
  },
  {
   "cell_type": "code",
   "execution_count": 1,
   "metadata": {},
   "outputs": [
    {
     "name": "stdout",
     "output_type": "stream",
     "text": [
      "{'target': 0.6, 'spill': 0.7, 'pause': 0.8, 'terminate': 0.95}\n"
     ]
    }
   ],
   "source": [
    "python -c \"import dask.distributed; print(dask.config.get('distributed.worker.memory'))\""
   ]
  },
  {
   "cell_type": "markdown",
   "metadata": {},
   "source": [
    "The `pause` option is the value at which a worker stops accepting new tasks, but will continue with calculations (which might still increase memory utilization). The `terminate` option specifies at which memory usage to kill a Dask worker to prevent e.g. crashing of the host system. For more details on memory options consider the Dask distributed documentation available [here](https://distributed.dask.org/en/latest/worker.html#memory-management)."
   ]
  },
  {
   "cell_type": "markdown",
   "metadata": {},
   "source": [
    "On the diskless nodes operated at JSC we might decrease the default Dask worker termination memory threshold and use only 90% of the memory indicated as \"free\" above. Unfortunately, these values cannot be set via the Dask jobqueue cluster specification directly, and we'll make use of [configuring Dask](https://docs.dask.org/en/latest/configuration.html) using its system environment variable approach."
   ]
  },
  {
   "cell_type": "code",
   "execution_count": 2,
   "metadata": {},
   "outputs": [
    {
     "name": "stdout",
     "output_type": "stream",
     "text": [
      "{'terminate': 0.9, 'target': 0.6, 'spill': 0.7, 'pause': 0.8}\n"
     ]
    }
   ],
   "source": [
    "unset $(compgen -v | grep DASK_)\n",
    "export DASK_DISTRIBUTED__WORKER__MEMORY__TERMINATE=0.90\n",
    "python -c \"import dask.distributed; print(dask.config.get('distributed.worker.memory'))\""
   ]
  },
  {
   "cell_type": "markdown",
   "metadata": {},
   "source": [
    "### Disable disk spilling\n",
    "Dask workers will, per default, spill their least recently used task data to disk (see [here](https://distributed.dask.org/en/latest/worker.html#spill-data-to-disk) for details). On the diskless nodes operated at JSC there is no temporary disk storage, and using the distributed storage as `local-directory` will cause Dask worker performance to degrade noticably. To completely [prevent disk spilling](https://docs.dask.org/en/latest/setup/hpc.html) the `target` and `spill` memory threshold options should be set as follows:"
   ]
  },
  {
   "cell_type": "code",
   "execution_count": 3,
   "metadata": {},
   "outputs": [
    {
     "name": "stdout",
     "output_type": "stream",
     "text": [
      "{'spill': False, 'target': False, 'pause': 0.8, 'terminate': 0.95}\n"
     ]
    }
   ],
   "source": [
    "unset $(compgen -v | grep DASK_)\n",
    "export DASK_DISTRIBUTED__WORKER__MEMORY__TARGET=False\n",
    "export DASK_DISTRIBUTED__WORKER__MEMORY__SPILL=False\n",
    "python -c \"import dask.distributed; print(dask.config.get('distributed.worker.memory'))\""
   ]
  }
 ],
 "metadata": {
  "kernelspec": {
   "display_name": "Bash",
   "language": "bash",
   "name": "bash"
  },
  "language_info": {
   "codemirror_mode": "shell",
   "file_extension": ".sh",
   "mimetype": "text/x-sh",
   "name": "bash"
  }
 },
 "nbformat": 4,
 "nbformat_minor": 4
}
